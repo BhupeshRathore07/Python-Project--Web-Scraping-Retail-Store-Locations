{
 "cells": [
  {
   "cell_type": "code",
   "execution_count": null,
   "id": "665e0997-1afd-4591-b1b8-6a22bf6f75df",
   "metadata": {},
   "outputs": [],
   "source": [
    "import requests\n",
    "from bs4 import BeautifulSoup\n",
    "import os\n",
    "import csv\n",
    "# import googlemaps\n",
    "\n",
    "locations = ['delhi', 'uttar pradesh', 'rajasthan', 'maharashtra', 'karnataka'] \n",
    "\n",
    "# gmaps = googlemaps.Client(key='MY_API_KEY_BUT_REQUIRES_BILLING')\n",
    "\n",
    "\n",
    "for location in locations:\n",
    "    url = 'https://www.lenskart.com/stores/location/' + location\n",
    "    response = requests.get(url)\n",
    "    \n",
    "    soup = BeautifulSoup(response.content, 'html.parser')\n",
    "    \n",
    "    stores = []\n",
    "    for store in soup.find_all('div', class_='StoreCard_imgContainer__P6NMN'):\n",
    "        name = store.find('a', {'class' : \"StoreCard_name__mrTXJ\"}).text\n",
    "        address = store.find('a', {'class' : 'StoreCard_storeAddress__PfC_v'}).text\n",
    "        timings = store.find('div', {'class' : 'StoreCard_storeAddress__PfC_v'}).text[7:-1]\n",
    "        phone = store.find('div', {'class' : \"StoreCard_wrapper__xhJ0A\"}).a.text[1:]\n",
    "       \n",
    "    \n",
    "#         geocode_result = gmaps.geocode(address)\n",
    "#         if geocode_result:\n",
    "#             latitude = geocode_result[0]['geometry']['location']['lat']\n",
    "#             longitude = geocode_result[0]['geometry']['location']['lng']\n",
    "#         else:\n",
    "#             latitude = ''\n",
    "#             longitude = ''\n",
    "            \n",
    "        latitude = ''\n",
    "        longitude = ''\n",
    "            \n",
    "        stores.append([name, address, location.title(), timings, latitude, longitude, phone])\n",
    "        \n",
    "        \n",
    "    if os.path.exists('lenskart_stores.csv'):\n",
    "        if os.stat('lenskart_stores.csv').st_size > 0:\n",
    "            with open('lenskart_stores.csv', mode='a') as file:\n",
    "                writer = csv.writer(file)\n",
    "                for store in stores:\n",
    "                    writer.writerow(store)\n",
    "        else:\n",
    "            with open('lenskart_stores.csv', mode='a') as file:\n",
    "                writer = csv.writer(file)\n",
    "                writer.writerow(['Store Name', 'Address', 'Location', 'Timings', 'Latitude', 'Longitude', 'Phone'])\n",
    "                for store in stores:\n",
    "                    writer.writerow(store)\n",
    "    else:\n",
    "        with open('lenskart_stores.csv', mode='a') as file:\n",
    "                writer = csv.writer(file)\n",
    "                writer.writerow(['Store Name', 'Address', 'Location', 'Timings', 'Latitude', 'Longitude', 'Phone'])\n",
    "                for store in stores:\n",
    "                    writer.writerow(store)"
   ]
  },
  {
   "cell_type": "code",
   "execution_count": null,
   "id": "486250d0-4a0c-458b-a917-a1ac529d0098",
   "metadata": {},
   "outputs": [],
   "source": []
  }
 ],
 "metadata": {
  "kernelspec": {
   "display_name": "Python 3 (ipykernel)",
   "language": "python",
   "name": "python3"
  },
  "language_info": {
   "codemirror_mode": {
    "name": "ipython",
    "version": 3
   },
   "file_extension": ".py",
   "mimetype": "text/x-python",
   "name": "python",
   "nbconvert_exporter": "python",
   "pygments_lexer": "ipython3",
   "version": "3.10.8"
  }
 },
 "nbformat": 4,
 "nbformat_minor": 5
}
